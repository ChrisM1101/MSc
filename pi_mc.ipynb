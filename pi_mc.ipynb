{
  "nbformat": 4,
  "nbformat_minor": 0,
  "metadata": {
    "colab": {
      "provenance": [],
      "authorship_tag": "ABX9TyO/p31MmoFXRhWLI3DETB/g",
      "include_colab_link": true
    },
    "kernelspec": {
      "name": "python3",
      "display_name": "Python 3"
    },
    "language_info": {
      "name": "python"
    }
  },
  "cells": [
    {
      "cell_type": "markdown",
      "metadata": {
        "id": "view-in-github",
        "colab_type": "text"
      },
      "source": [
        "<a href=\"https://colab.research.google.com/github/ChrisM1101/MSc/blob/main/pi_mc.ipynb\" target=\"_parent\"><img src=\"https://colab.research.google.com/assets/colab-badge.svg\" alt=\"Open In Colab\"/></a>"
      ]
    },
    {
      "cell_type": "code",
      "execution_count": null,
      "metadata": {
        "id": "FSurw9jc4M9u"
      },
      "outputs": [],
      "source": [
        "# Nikolaos Stergioulas, Aristotle University of Thessaloniki\n",
        "#\n",
        "# Content provided under a Creative Commons Attribution license, CC BY-NC-SA 4.0; code under GNU GPLv3 License.\n",
        "# (c)2024 Nikolaos Stergioulas\n",
        "\n",
        "import subprocess\n",
        "import os\n",
        "import time\n",
        "import matplotlib.pyplot as plt\n",
        "import numpy as np\n",
        "import pandas as pd\n",
        "from scipy.optimize import curve_fit\n",
        "\n",
        "# Compile the C code\n",
        "subprocess.run([\"gcc\", \"-O3\", \"-fopenmp\", \"pi_mc.c\", \"-o\", \"pi_mc\"])\n",
        "\n",
        "# List of number of threads\n",
        "num_threads_list = [1, 2, 4, 6, 8, 10, 12, 14, 16, 18, 20, 22, 24, 26, 28, 30, 32]\n",
        "\n",
        "# List to store execution times\n",
        "execution_times = []"
      ]
    }
  ]
}